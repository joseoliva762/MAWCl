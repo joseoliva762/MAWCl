{
 "cells": [
  {
   "cell_type": "code",
   "execution_count": 1,
   "metadata": {},
   "outputs": [],
   "source": [
    "import pandas as pd\n",
    "import matplotlib.pyplot as plt\n",
    "import numpy as np\n",
    "import tensorflow as tf\n",
    "from sklearn.preprocessing import OneHotEncoder\n",
    "from sklearn.model_selection import train_test_split as tts\n",
    "import cv2 as cv\n",
    "import os\n",
    "%matplotlib inline\n",
    "\n",
    "import pickle"
   ]
  },
  {
   "cell_type": "code",
   "execution_count": 2,
   "metadata": {},
   "outputs": [],
   "source": [
    "def convpool(X, W, b):\n",
    "    conv_out = tf.nn.conv2d(X, W, strides=[1, 1, 1, 1], padding='SAME')\n",
    "    conv_out = tf.nn.bias_add(conv_out, b)\n",
    "    pool_out = tf.nn.max_pool(conv_out, ksize=[1, 2, 2, 1], strides=[1, 2, 2, 1], padding='SAME')\n",
    "    return tf.nn.relu(pool_out)"
   ]
  },
  {
   "cell_type": "code",
   "execution_count": 3,
   "metadata": {},
   "outputs": [],
   "source": [
    "def charge_dataset(ruta):\n",
    "    File = open(ruta, 'rb')\n",
    "    data_x_tmp = pickle.load(File)\n",
    "    data_y = pickle.load(File)\n",
    "    File.close()\n",
    "    del(File)\n",
    "    return data_x_tmp, data_y\n",
    "\n",
    "def show_img(data_x_tmp, data_y, index_img=255):   \n",
    "    plt.imshow(data_x_tmp[index_img])\n",
    "    if data_y[index_img, 0]:\n",
    "        print (\">>> La imagen No. {} está etiquetado como Hombre.\".format(index_img))\n",
    "    else:\n",
    "        print (\">>> La imagen No. {} está etiquetado como Mujer\".format(index_img))\n",
    "\n",
    "def get_new_colmns(data_x_tmp):\n",
    "    new_colmns = 1\n",
    "    for i in range(3):\n",
    "        new_colmns *= data_x_tmp.shape[i+1]\n",
    "    return new_colmns\n",
    "\n",
    "def  x_reshape_and_normalize(data_x_tmp):\n",
    "    rows = data_x_tmp.shape[0]\n",
    "    new_colmns = get_new_colmns(data_x_tmp)\n",
    "    data_x = data_x_tmp.reshape((rows,new_colmns))\n",
    "    colmns = data_x.shape[1]\n",
    "    print(\"Nuevas dimensiónes de X {}\".format(data_x.shape))\n",
    "    print('\\n>>> Datos de X sin normalizar: \\r\\n {}\\n'.format(data_x))\n",
    "    # Normalizamos los datos.\n",
    "    data_x = data_x/255 \n",
    "    print('>>> Datos de X normalizados: \\r\\n {}\\n'.format(data_x))\n",
    "    return data_x, rows, colmns"
   ]
  },
  {
   "cell_type": "code",
   "execution_count": 4,
   "metadata": {},
   "outputs": [],
   "source": [
    "# Obtencion y normalizacion de datos\n",
    "ruta = ('dataset/data.pckl')\n",
    "index_img = 14000  ### Se puede cambiar el indice (0-258)\n",
    "def dataset_init(ruta, index_img):\n",
    "    data_x_tmp, data_y = charge_dataset(ruta)\n",
    "    print(\"Dimensión de X {}\".format(data_x_tmp.shape))\n",
    "    print(\"Dimensión de Y {}\".format(data_y.shape))\n",
    "    show_img(data_x_tmp, data_y, index_img)\n",
    "    data_x, rows, colmns = x_reshape_and_normalize(data_x_tmp)\n",
    "    return data_x, data_y, rows, colmns"
   ]
  },
  {
   "cell_type": "code",
   "execution_count": 5,
   "metadata": {},
   "outputs": [
    {
     "name": "stdout",
     "output_type": "stream",
     "text": [
      "Dimensión de X (24032, 64, 64, 3)\n",
      "Dimensión de Y (24032, 1)\n",
      ">>> La imagen No. 14000 está etiquetado como Hombre.\n",
      "Nuevas dimensiónes de X (24032, 12288)\n",
      "\n",
      ">>> Datos de X sin normalizar: \n",
      " [[ 25  21  18 ...  61  65  45]\n",
      " [241 240 232 ... 222 228 233]\n",
      " [ 87  97  73 ...  65  65  40]\n",
      " ...\n",
      " [  0   0   0 ...   0   0   0]\n",
      " [  0   0   2 ...   0   0   0]\n",
      " [  0   0   0 ...   0   0   0]]\n",
      "\n",
      ">>> Datos de X normalizados: \n",
      " [[0.09803922 0.08235294 0.07058824 ... 0.23921569 0.25490196 0.17647059]\n",
      " [0.94509804 0.94117647 0.90980392 ... 0.87058824 0.89411765 0.91372549]\n",
      " [0.34117647 0.38039216 0.28627451 ... 0.25490196 0.25490196 0.15686275]\n",
      " ...\n",
      " [0.         0.         0.         ... 0.         0.         0.        ]\n",
      " [0.         0.         0.00784314 ... 0.         0.         0.        ]\n",
      " [0.         0.         0.         ... 0.         0.         0.        ]]\n",
      "\n"
     ]
    },
    {
     "data": {
      "image/png": "[encoded data removed]",
      "text/plain": [
       "<Figure size 432x288 with 1 Axes>"
      ]
     },
     "metadata": {
      "needs_background": "light"
     },
     "output_type": "display_data"
    }
   ],
   "source": [
    "# Obtengo mis datos\n",
    "data_x, data_y_tmp, rows, colmns = dataset_init(ruta, index_img)"
   ]
  },
  {
   "cell_type": "code",
   "execution_count": 6,
   "metadata": {},
   "outputs": [
    {
     "name": "stderr",
     "output_type": "stream",
     "text": [
      "C:\\Users\\joseo\\Anaconda3\\envs\\automatas\\lib\\site-packages\\sklearn\\preprocessing\\_encoders.py:415: FutureWarning: The handling of integer data will change in version 0.22. Currently, the categories are determined based on the range [0, max(values)], while in the future they will be determined based on the unique values.\n",
      "If you want the future behaviour and silence this warning, you can specify \"categories='auto'\".\n",
      "In case you used a LabelEncoder before this OneHotEncoder to convert the categories to integers, then you can now use the OneHotEncoder directly.\n",
      "  warnings.warn(msg, FutureWarning)\n"
     ]
    }
   ],
   "source": [
    "oneHot = OneHotEncoder()\n",
    "oneHot.fit(data_y_tmp)\n",
    "data_y = oneHot.transform(data_y_tmp).toarray()"
   ]
  },
  {
   "cell_type": "code",
   "execution_count": 7,
   "metadata": {},
   "outputs": [
    {
     "name": "stdout",
     "output_type": "stream",
     "text": [
      "[0. 1.]\n"
     ]
    }
   ],
   "source": [
    "print(data_y[index_img,:])"
   ]
  },
  {
   "cell_type": "code",
   "execution_count": 8,
   "metadata": {},
   "outputs": [
    {
     "name": "stdout",
     "output_type": "stream",
     "text": [
      "Train:(19225, 12288), Validation:(2404, 12288), Test (2403, 12288)\n",
      "<class 'numpy.ndarray'>\n",
      "(19225, 2)\n"
     ]
    }
   ],
   "source": [
    "X_train, X_tmp, Y_train, Y_tmp = tts(data_x, data_y, test_size=0.2, random_state=None) \n",
    "X_test, X_validation, Y_test, Y_validation = tts(X_tmp, Y_tmp, test_size=0.5, random_state=None) \n",
    "X_train = np.array(X_train)\n",
    "X_validation = np.array(X_validation)\n",
    "X_test = np.array(X_test)\n",
    "print('Train:{}, Validation:{}, Test {}'.format(X_train.shape,X_validation.shape,X_test.shape))\n",
    "print(type(Y_train))\n",
    "print(Y_train.shape)"
   ]
  },
  {
   "cell_type": "code",
   "execution_count": 9,
   "metadata": {},
   "outputs": [],
   "source": [
    "ruta = 'dataset/test_data.pckl'\n",
    "File = open(ruta, 'wb')\n",
    "pickle.dump(X_test,File) \n",
    "pickle.dump(Y_test,File)\n",
    "File.close()\n",
    "del(File)"
   ]
  },
  {
   "cell_type": "code",
   "execution_count": 10,
   "metadata": {},
   "outputs": [
    {
     "data": {
      "text/plain": [
       "2404"
      ]
     },
     "execution_count": 10,
     "metadata": {},
     "output_type": "execute_result"
    }
   ],
   "source": [
    "samples = np.shape(X_train)[0]\n",
    "learning_rate = 0.0009\n",
    "num_epochs = 50\n",
    "display_step = 1\n",
    "hidden_layer_size = 300          # Número de neuronas en capa oculta\n",
    "n = np.shape(X_train)[1]         # Número de cararcteristicas\n",
    "n_class = np.shape(Y_train)[1]   # Número de clases\n",
    "#batch_sz = int(samples*0.1)\n",
    "batch_sz = 2404\n",
    "n_batches = int(samples/batch_sz)\n",
    "batch_sz "
   ]
  },
  {
   "cell_type": "code",
   "execution_count": 11,
   "metadata": {},
   "outputs": [],
   "source": [
    "tf.reset_default_graph()\n",
    "X = tf.placeholder(tf.float32, [batch_sz, 64, 64, 3])\n",
    "Y = tf.placeholder(tf.float32, [batch_sz, n_class])"
   ]
  },
  {
   "cell_type": "code",
   "execution_count": 12,
   "metadata": {},
   "outputs": [
    {
     "name": "stderr",
     "output_type": "stream",
     "text": [
      "WARNING: Logging before flag parsing goes to stderr.\n",
      "W1116 17:38:01.120532  9996 deprecation.py:506] From C:\\Users\\joseo\\Anaconda3\\envs\\automatas\\lib\\site-packages\\tensorflow\\python\\ops\\init_ops.py:1251: calling VarianceScaling.__init__ (from tensorflow.python.ops.init_ops) with dtype is deprecated and will be removed in a future version.\n",
      "Instructions for updating:\n",
      "Call initializer instance with the dtype argument instead of passing it to the constructor\n"
     ]
    }
   ],
   "source": [
    "W1 = tf.get_variable(\"W1\", [8, 8, 3, 32])\n",
    "b1 = tf.get_variable(\"b1\", 32)\n",
    "W2 = tf.get_variable(\"W2\",[8, 8, 32, 64])\n",
    "b2 = tf.get_variable(\"b2\", 64)\n",
    "W3 = tf.get_variable(\"W3\",[16*16*64, hidden_layer_size])\n",
    "b3 = tf.get_variable(\"b3\",[hidden_layer_size])\n",
    "W4 = tf.get_variable(\"W4\",[hidden_layer_size, n_class])\n",
    "b4 = tf.get_variable(\"b4\",n_class)"
   ]
  },
  {
   "cell_type": "code",
   "execution_count": 13,
   "metadata": {},
   "outputs": [],
   "source": [
    "Z1 = convpool(X, W1, b1)\n",
    "Z2 = convpool(Z1, W2, b2)\n",
    "Z2_shape = Z2.get_shape().as_list()\n",
    "Z2r = tf.reshape(Z2, [Z2_shape[0], np.prod(Z2_shape[1:])])\n",
    "Z3 = tf.nn.relu( tf.matmul(Z2r, W3) + b3 )\n",
    "Z = tf.matmul(Z3, W4) + b4\n",
    "y_ = tf.nn.tanh(Z)\n",
    "prediccion = tf.equal(tf.argmax(y_, 1), tf.argmax(Y, 1))"
   ]
  },
  {
   "cell_type": "code",
   "execution_count": 14,
   "metadata": {},
   "outputs": [],
   "source": [
    "J = tf.nn.softmax_cross_entropy_with_logits_v2(labels=Y, logits=Z)\n",
    "mean_J = tf.reduce_mean(J)\n",
    "#optimizer = tf.train.GradientDescentOptimizer(learning_rate=learning_rate).minimize(mean_J)\n",
    "optimizer = tf.train.AdamOptimizer(learning_rate=learning_rate).minimize(mean_J)\n",
    "\n",
    "accuracy = tf.reduce_mean(tf.cast(prediccion, tf.float32))\n",
    "saver = tf.train.Saver()"
   ]
  },
  {
   "cell_type": "code",
   "execution_count": 15,
   "metadata": {},
   "outputs": [
    {
     "data": {
      "text/plain": [
       "TensorShape([Dimension(2404), Dimension(64), Dimension(64), Dimension(3)])"
      ]
     },
     "execution_count": 15,
     "metadata": {},
     "output_type": "execute_result"
    }
   ],
   "source": [
    "X.shape"
   ]
  },
  {
   "cell_type": "code",
   "execution_count": 16,
   "metadata": {},
   "outputs": [
    {
     "name": "stdout",
     "output_type": "stream",
     "text": [
      "Epoch: 1 train_cost=0.8386 validation_cost=0.8149 validation_accuracy=50.37\n",
      "Epoch: 2 train_cost=0.7052 validation_cost=0.6528 validation_accuracy=67.01\n",
      "Epoch: 3 train_cost=0.5384 validation_cost=0.5441 validation_accuracy=74.46\n",
      "Epoch: 4 train_cost=0.4893 validation_cost=0.4970 validation_accuracy=77.16\n",
      "Epoch: 5 train_cost=0.4587 validation_cost=0.4619 validation_accuracy=77.87\n",
      "Epoch: 6 train_cost=0.4458 validation_cost=0.4440 validation_accuracy=78.54\n",
      "Epoch: 7 train_cost=0.4362 validation_cost=0.4336 validation_accuracy=78.91\n",
      "Epoch: 8 train_cost=0.4272 validation_cost=0.4286 validation_accuracy=79.24\n",
      "Epoch: 9 train_cost=0.4186 validation_cost=0.4205 validation_accuracy=79.74\n",
      "Epoch: 10 train_cost=0.4114 validation_cost=0.4112 validation_accuracy=80.45\n",
      "Epoch: 11 train_cost=0.4002 validation_cost=0.4027 validation_accuracy=80.57\n",
      "Epoch: 12 train_cost=0.3905 validation_cost=0.3894 validation_accuracy=81.49\n",
      "Epoch: 13 train_cost=0.3728 validation_cost=0.3773 validation_accuracy=81.82\n",
      "Epoch: 14 train_cost=0.3776 validation_cost=0.3735 validation_accuracy=81.95\n",
      "Epoch: 15 train_cost=0.3710 validation_cost=0.3788 validation_accuracy=82.24\n",
      "Epoch: 16 train_cost=0.3511 validation_cost=0.3711 validation_accuracy=82.24\n",
      "Epoch: 17 train_cost=0.3537 validation_cost=0.3493 validation_accuracy=83.49\n",
      "Epoch: 18 train_cost=0.3349 validation_cost=0.3433 validation_accuracy=83.69\n",
      "Epoch: 19 train_cost=0.3294 validation_cost=0.3357 validation_accuracy=84.28\n",
      "Epoch: 20 train_cost=0.3215 validation_cost=0.3357 validation_accuracy=84.82\n",
      "Epoch: 21 train_cost=0.3109 validation_cost=0.3367 validation_accuracy=84.36\n",
      "Epoch: 22 train_cost=0.3132 validation_cost=0.3194 validation_accuracy=85.48\n",
      "Epoch: 23 train_cost=0.2892 validation_cost=0.3125 validation_accuracy=85.94\n",
      "Epoch: 24 train_cost=0.2832 validation_cost=0.3064 validation_accuracy=86.06\n",
      "Epoch: 25 train_cost=0.2747 validation_cost=0.2989 validation_accuracy=86.73\n",
      "Epoch: 26 train_cost=0.2666 validation_cost=0.3039 validation_accuracy=86.19\n",
      "Epoch: 27 train_cost=0.2527 validation_cost=0.2859 validation_accuracy=87.52\n",
      "Epoch: 28 train_cost=0.2464 validation_cost=0.2798 validation_accuracy=87.98\n",
      "Epoch: 29 train_cost=0.2365 validation_cost=0.2771 validation_accuracy=87.44\n",
      "Epoch: 30 train_cost=0.2261 validation_cost=0.2938 validation_accuracy=86.94\n",
      "Epoch: 31 train_cost=0.2135 validation_cost=0.2758 validation_accuracy=88.23\n",
      "Epoch: 32 train_cost=0.2039 validation_cost=0.2767 validation_accuracy=87.98\n",
      "Epoch: 33 train_cost=0.1952 validation_cost=0.2773 validation_accuracy=87.98\n",
      "Epoch: 34 train_cost=0.1840 validation_cost=0.2704 validation_accuracy=88.39\n",
      "Epoch: 35 train_cost=0.1706 validation_cost=0.2577 validation_accuracy=89.06\n",
      "Epoch: 36 train_cost=0.1772 validation_cost=0.2943 validation_accuracy=87.40\n",
      "Epoch: 37 train_cost=0.1702 validation_cost=0.2881 validation_accuracy=87.98\n",
      "Epoch: 38 train_cost=0.1570 validation_cost=0.2753 validation_accuracy=88.39\n",
      "Epoch: 39 train_cost=0.1505 validation_cost=0.2763 validation_accuracy=88.52\n",
      "Epoch: 40 train_cost=0.1408 validation_cost=0.2821 validation_accuracy=88.73\n",
      "Epoch: 41 train_cost=0.1376 validation_cost=0.2794 validation_accuracy=88.56\n",
      "Epoch: 42 train_cost=0.1527 validation_cost=0.2536 validation_accuracy=89.77\n",
      "Epoch: 43 train_cost=0.1456 validation_cost=0.2669 validation_accuracy=89.43\n",
      "Epoch: 44 train_cost=0.1258 validation_cost=0.2470 validation_accuracy=90.14\n",
      "Epoch: 45 train_cost=0.1116 validation_cost=0.2575 validation_accuracy=90.31\n",
      "Epoch: 46 train_cost=0.1028 validation_cost=0.2527 validation_accuracy=90.56\n",
      "Epoch: 47 train_cost=0.0980 validation_cost=0.2547 validation_accuracy=90.77\n",
      "Epoch: 48 train_cost=0.0922 validation_cost=0.2547 validation_accuracy=90.89\n",
      "Epoch: 49 train_cost=0.0857 validation_cost=0.2618 validation_accuracy=90.43\n",
      "Epoch: 50 train_cost=0.0790 validation_cost=0.2620 validation_accuracy=90.68\n",
      "Entrenamiento Finalizado\n"
     ]
    },
    {
     "ename": "ValueError",
     "evalue": "Cannot feed value of shape (2403, 12288) for Tensor 'Placeholder:0', which has shape '(2404, 64, 64, 3)'",
     "output_type": "error",
     "traceback": [
      "\u001b[1;31m---------------------------------------------------------------------------\u001b[0m",
      "\u001b[1;31mValueError\u001b[0m                                Traceback (most recent call last)",
      "\u001b[1;32m<ipython-input-16-e5efe69ca271>\u001b[0m in \u001b[0;36m<module>\u001b[1;34m\u001b[0m\n\u001b[0;32m     32\u001b[0m         \u001b[0mprint\u001b[0m\u001b[1;33m(\u001b[0m\u001b[1;34m'Entrenamiento Finalizado'\u001b[0m\u001b[1;33m)\u001b[0m\u001b[1;33m\u001b[0m\u001b[1;33m\u001b[0m\u001b[0m\n\u001b[0;32m     33\u001b[0m         v_cost, v_accuracy = sess.run([mean_J, accuracy], \n\u001b[1;32m---> 34\u001b[1;33m                                         feed_dict={X: X_test, Y: Y_test})\n\u001b[0m\u001b[0;32m     35\u001b[0m         \u001b[0mprint\u001b[0m\u001b[1;33m(\u001b[0m\u001b[1;34m\"Evaluación del modelo\"\u001b[0m\u001b[1;33m)\u001b[0m\u001b[1;33m\u001b[0m\u001b[1;33m\u001b[0m\u001b[0m\n\u001b[0;32m     36\u001b[0m         \u001b[0mprint\u001b[0m\u001b[1;33m(\u001b[0m\u001b[1;34m\"test_cost={:0.4f}\"\u001b[0m\u001b[1;33m.\u001b[0m\u001b[0mformat\u001b[0m\u001b[1;33m(\u001b[0m\u001b[0mv_cost\u001b[0m\u001b[1;33m)\u001b[0m\u001b[1;33m,\u001b[0m \u001b[1;34m\"test_accuracy={:0.2f}\"\u001b[0m\u001b[1;33m.\u001b[0m\u001b[0mformat\u001b[0m\u001b[1;33m(\u001b[0m\u001b[0mv_accuracy\u001b[0m\u001b[1;33m*\u001b[0m\u001b[1;36m100\u001b[0m\u001b[1;33m)\u001b[0m\u001b[1;33m)\u001b[0m\u001b[1;33m\u001b[0m\u001b[1;33m\u001b[0m\u001b[0m\n",
      "\u001b[1;32m~\\Anaconda3\\envs\\automatas\\lib\\site-packages\\tensorflow\\python\\client\\session.py\u001b[0m in \u001b[0;36mrun\u001b[1;34m(self, fetches, feed_dict, options, run_metadata)\u001b[0m\n\u001b[0;32m    948\u001b[0m     \u001b[1;32mtry\u001b[0m\u001b[1;33m:\u001b[0m\u001b[1;33m\u001b[0m\u001b[1;33m\u001b[0m\u001b[0m\n\u001b[0;32m    949\u001b[0m       result = self._run(None, fetches, feed_dict, options_ptr,\n\u001b[1;32m--> 950\u001b[1;33m                          run_metadata_ptr)\n\u001b[0m\u001b[0;32m    951\u001b[0m       \u001b[1;32mif\u001b[0m \u001b[0mrun_metadata\u001b[0m\u001b[1;33m:\u001b[0m\u001b[1;33m\u001b[0m\u001b[1;33m\u001b[0m\u001b[0m\n\u001b[0;32m    952\u001b[0m         \u001b[0mproto_data\u001b[0m \u001b[1;33m=\u001b[0m \u001b[0mtf_session\u001b[0m\u001b[1;33m.\u001b[0m\u001b[0mTF_GetBuffer\u001b[0m\u001b[1;33m(\u001b[0m\u001b[0mrun_metadata_ptr\u001b[0m\u001b[1;33m)\u001b[0m\u001b[1;33m\u001b[0m\u001b[1;33m\u001b[0m\u001b[0m\n",
      "\u001b[1;32m~\\Anaconda3\\envs\\automatas\\lib\\site-packages\\tensorflow\\python\\client\\session.py\u001b[0m in \u001b[0;36m_run\u001b[1;34m(self, handle, fetches, feed_dict, options, run_metadata)\u001b[0m\n\u001b[0;32m   1147\u001b[0m                              \u001b[1;34m'which has shape %r'\u001b[0m \u001b[1;33m%\u001b[0m\u001b[1;33m\u001b[0m\u001b[1;33m\u001b[0m\u001b[0m\n\u001b[0;32m   1148\u001b[0m                              (np_val.shape, subfeed_t.name,\n\u001b[1;32m-> 1149\u001b[1;33m                               str(subfeed_t.get_shape())))\n\u001b[0m\u001b[0;32m   1150\u001b[0m           \u001b[1;32mif\u001b[0m \u001b[1;32mnot\u001b[0m \u001b[0mself\u001b[0m\u001b[1;33m.\u001b[0m\u001b[0mgraph\u001b[0m\u001b[1;33m.\u001b[0m\u001b[0mis_feedable\u001b[0m\u001b[1;33m(\u001b[0m\u001b[0msubfeed_t\u001b[0m\u001b[1;33m)\u001b[0m\u001b[1;33m:\u001b[0m\u001b[1;33m\u001b[0m\u001b[1;33m\u001b[0m\u001b[0m\n\u001b[0;32m   1151\u001b[0m             \u001b[1;32mraise\u001b[0m \u001b[0mValueError\u001b[0m\u001b[1;33m(\u001b[0m\u001b[1;34m'Tensor %s may not be fed.'\u001b[0m \u001b[1;33m%\u001b[0m \u001b[0msubfeed_t\u001b[0m\u001b[1;33m)\u001b[0m\u001b[1;33m\u001b[0m\u001b[1;33m\u001b[0m\u001b[0m\n",
      "\u001b[1;31mValueError\u001b[0m: Cannot feed value of shape (2403, 12288) for Tensor 'Placeholder:0', which has shape '(2404, 64, 64, 3)'"
     ]
    }
   ],
   "source": [
    "train_cost = []\n",
    "validation_cost = []\n",
    "prev_validation_accuracy = 0\n",
    "with tf.name_scope(\"starting_tensorflow_session\"):\n",
    "    with tf.Session() as sess:\n",
    "        sess.run(tf.global_variables_initializer())\n",
    "        cont = 0\n",
    "        for epoch in range(num_epochs):\n",
    "            for batch in range(n_batches):\n",
    "                X_batch = X_train[batch*batch_sz:(batch*batch_sz + batch_sz),:]\n",
    "                Y_batch = Y_train[batch*batch_sz:(batch*batch_sz + batch_sz),:]\n",
    "                X_batch = X_batch.reshape(X_batch.shape[0], 64, 64, 3)\n",
    "                #print(X_batch.shape)\n",
    "                _, t_cost = sess.run([optimizer, mean_J], feed_dict={X: X_batch, Y: Y_batch})\n",
    "                train_cost.append(t_cost)\n",
    "  \n",
    "            X_validation = X_validation.reshape(X_validation.shape[0], 64, 64, 3)   \n",
    "            v_cost, v_accuracy = sess.run([mean_J, accuracy], \n",
    "                                        feed_dict={X: X_validation, Y: Y_validation})\n",
    "            validation_cost.append(v_cost)\n",
    "            if (epoch+1) % display_step == 0:\n",
    "                print(\"Epoch: {}\".format(epoch + 1), \"train_cost={:0.4f}\".format(t_cost), \n",
    "                      \"validation_cost={:0.4f}\".format(v_cost), \"validation_accuracy={:0.2f}\".format(v_accuracy*100))\n",
    "            if v_accuracy <= prev_validation_accuracy:\n",
    "                cont = cont+1;\n",
    "            else:\n",
    "                cont = 0\n",
    "            if cont > 2:\n",
    "                break\n",
    "            prev_validation_accuracy = v_accuracy\n",
    "            saver.save(sess, os.getcwd()+\"/modeloCNN.ckpt\")\n",
    "        print('Entrenamiento Finalizado')\n",
    "        X_test = X_test.reshape(X_test.shape[0], 64, 64, 3)\n",
    "        v_cost, v_accuracy = sess.run([mean_J, accuracy], \n",
    "                                        feed_dict={X: X_test, Y: Y_test})\n",
    "        print(\"Evaluación del modelo\")\n",
    "        print(\"test_cost={:0.4f}\".format(v_cost), \"test_accuracy={:0.2f}\".format(v_accuracy*100))\n",
    "           "
   ]
  },
  {
   "cell_type": "code",
   "execution_count": null,
   "metadata": {},
   "outputs": [],
   "source": [
    "\n",
    "\n",
    "                \n",
    "               \n",
    "                "
   ]
  },
  {
   "cell_type": "code",
   "execution_count": null,
   "metadata": {},
   "outputs": [],
   "source": [
    "          if (epoch+1) % display_step == 0:\n",
    "                print(\"Epoch: {}\".format(epoch + 1), \"train_cost={:0.4f}\".format(t_cost))"
   ]
  }
 ],
 "metadata": {
  "kernelspec": {
   "display_name": "Python 3",
   "language": "python",
   "name": "python3"
  },
  "language_info": {
   "codemirror_mode": {
    "name": "ipython",
    "version": 3
   },
   "file_extension": ".py",
   "mimetype": "text/x-python",
   "name": "python",
   "nbconvert_exporter": "python",
   "pygments_lexer": "ipython3",
   "version": "3.7.4"
  }
 },
 "nbformat": 4,
 "nbformat_minor": 2
}
