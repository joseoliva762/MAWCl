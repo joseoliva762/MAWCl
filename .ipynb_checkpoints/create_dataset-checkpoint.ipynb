{
 "cells": [
  {
   "cell_type": "code",
   "execution_count": null,
   "metadata": {},
   "outputs": [],
   "source": [
    "import pickle\n",
    "import matplotlib.pyplot as plt\n",
    "import numpy as np\n",
    "import tensorflow as tf\n",
    "from PIL import Image\n",
    "\n",
    "import cv2 as cv\n",
    "import os\n",
    "%matplotlib inline"
   ]
  },
  {
   "cell_type": "code",
   "execution_count": null,
   "metadata": {},
   "outputs": [],
   "source": [
    "def _print_dim(dimx, dimy):\n",
    "    print(\"Dimensión de X {}\".format(dimx.shape))\n",
    "    print(\"Dimensión de Y {}\".format(dimy.shape))"
   ]
  },
  {
   "cell_type": "code",
   "execution_count": null,
   "metadata": {},
   "outputs": [],
   "source": [
    "def get_images(name, n_img, Xt, Yt):\n",
    "    intro = intro='images/' + str(name) +'/1 ('\n",
    "    ext=').jpg'\n",
    "    #n_img = 11942\n",
    "    for cont_imgs in range(n_img):\n",
    "        nombre = intro + str(cont_imgs+1) + ext\n",
    "        img = cv.imread(nombre,3)\n",
    "        img = cv.cvtColor(img, cv.COLOR_BGR2RGB)\n",
    "        ima = cv.resize(img,(64,64))\n",
    "        if (cont_imgs+1) % 50 == 0:\n",
    "            print('faltan: {} imagenes.'.format(n_img-cont_imgs))\n",
    "        t=[0]\n",
    "        Xt.append(ima)\n",
    "        Yt.append(t)\n",
    "    return Xt, Yt"
   ]
  },
  {
   "cell_type": "code",
   "execution_count": null,
   "metadata": {
    "scrolled": true
   },
   "outputs": [],
   "source": [
    "named = 'mujeres'\n",
    "img_sam = 11942\n",
    "Xt, Yt = get_images(named, img_sam, Xt=list(), Yt=list())"
   ]
  },
  {
   "cell_type": "code",
   "execution_count": null,
   "metadata": {},
   "outputs": [],
   "source": [
    "dat_X = np.array(Xt)\n",
    "dat_Y = np.array(Yt)"
   ]
  },
  {
   "cell_type": "code",
   "execution_count": null,
   "metadata": {},
   "outputs": [],
   "source": [
    "_print_dim(dat_X, dat_Y)"
   ]
  },
  {
   "cell_type": "code",
   "execution_count": null,
   "metadata": {},
   "outputs": [],
   "source": [
    "ruta = 'dataset/data.pckl'\n",
    "File = open(ruta, 'wb')\n",
    "pickle.dump(dat_X,File) \n",
    "pickle.dump(dat_Y,File)\n",
    "File.close()\n",
    "del(File)"
   ]
  },
  {
   "cell_type": "markdown",
   "metadata": {},
   "source": [
    "# para agregar la otra clase"
   ]
  },
  {
   "cell_type": "code",
   "execution_count": 22,
   "metadata": {},
   "outputs": [],
   "source": [
    "ruta = 'dataset/data.pckl'\n",
    "File = open(ruta, 'rb')\n",
    "dat_X = pickle.load(File)\n",
    "dat_Y = pickle.load(File)\n",
    "File.close()\n",
    "del(File)"
   ]
  },
  {
   "cell_type": "code",
   "execution_count": 23,
   "metadata": {},
   "outputs": [],
   "source": [
    "Xt = dat_X.tolist()\n",
    "Yt = dat_Y.tolist()"
   ]
  },
  {
   "cell_type": "code",
   "execution_count": 24,
   "metadata": {},
   "outputs": [
    {
     "name": "stdout",
     "output_type": "stream",
     "text": [
      "Dimensión de X (12090, 64, 64, 3)\n",
      "Dimensión de Y (12090, 1)\n"
     ]
    }
   ],
   "source": [
    "_print_dim(dat_X, dat_Y)"
   ]
  },
  {
   "cell_type": "code",
   "execution_count": null,
   "metadata": {
    "scrolled": true
   },
   "outputs": [
    {
     "name": "stdout",
     "output_type": "stream",
     "text": [
      "faltan: 12041 imagenes.\n",
      "faltan: 11991 imagenes.\n",
      "faltan: 11941 imagenes.\n",
      "faltan: 11891 imagenes.\n",
      "faltan: 11841 imagenes.\n",
      "faltan: 11791 imagenes.\n",
      "faltan: 11741 imagenes.\n",
      "faltan: 11691 imagenes.\n",
      "faltan: 11641 imagenes.\n",
      "faltan: 11591 imagenes.\n",
      "faltan: 11541 imagenes.\n",
      "faltan: 11491 imagenes.\n",
      "faltan: 11441 imagenes.\n",
      "faltan: 11391 imagenes.\n",
      "faltan: 11341 imagenes.\n",
      "faltan: 11291 imagenes.\n",
      "faltan: 11241 imagenes.\n",
      "faltan: 11191 imagenes.\n",
      "faltan: 11141 imagenes.\n",
      "faltan: 11091 imagenes.\n",
      "faltan: 11041 imagenes.\n",
      "faltan: 10991 imagenes.\n",
      "faltan: 10941 imagenes.\n",
      "faltan: 10891 imagenes.\n",
      "faltan: 10841 imagenes.\n",
      "faltan: 10791 imagenes.\n",
      "faltan: 10741 imagenes.\n",
      "faltan: 10691 imagenes.\n",
      "faltan: 10641 imagenes.\n",
      "faltan: 10591 imagenes.\n",
      "faltan: 10541 imagenes.\n",
      "faltan: 10491 imagenes.\n",
      "faltan: 10441 imagenes.\n",
      "faltan: 10391 imagenes.\n",
      "faltan: 10341 imagenes.\n",
      "faltan: 10291 imagenes.\n",
      "faltan: 10241 imagenes.\n",
      "faltan: 10191 imagenes.\n",
      "faltan: 10141 imagenes.\n",
      "faltan: 10091 imagenes.\n",
      "faltan: 10041 imagenes.\n",
      "faltan: 9991 imagenes.\n",
      "faltan: 9941 imagenes.\n",
      "faltan: 9891 imagenes.\n",
      "faltan: 9841 imagenes.\n",
      "faltan: 9791 imagenes.\n",
      "faltan: 9741 imagenes.\n",
      "faltan: 9691 imagenes.\n",
      "faltan: 9641 imagenes.\n",
      "faltan: 9591 imagenes.\n",
      "faltan: 9541 imagenes.\n",
      "faltan: 9491 imagenes.\n",
      "faltan: 9441 imagenes.\n",
      "faltan: 9391 imagenes.\n",
      "faltan: 9341 imagenes.\n",
      "faltan: 9291 imagenes.\n",
      "faltan: 9241 imagenes.\n",
      "faltan: 9191 imagenes.\n",
      "faltan: 9141 imagenes.\n",
      "faltan: 9091 imagenes.\n",
      "faltan: 9041 imagenes.\n",
      "faltan: 8991 imagenes.\n",
      "faltan: 8941 imagenes.\n",
      "faltan: 8891 imagenes.\n",
      "faltan: 8841 imagenes.\n",
      "faltan: 8791 imagenes.\n",
      "faltan: 8741 imagenes.\n",
      "faltan: 8691 imagenes.\n",
      "faltan: 8641 imagenes.\n",
      "faltan: 8591 imagenes.\n",
      "faltan: 8541 imagenes.\n",
      "faltan: 8491 imagenes.\n",
      "faltan: 8441 imagenes.\n",
      "faltan: 8391 imagenes.\n",
      "faltan: 8341 imagenes.\n",
      "faltan: 8291 imagenes.\n",
      "faltan: 8241 imagenes.\n",
      "faltan: 8191 imagenes.\n",
      "faltan: 8141 imagenes.\n",
      "faltan: 8091 imagenes.\n",
      "faltan: 8041 imagenes.\n",
      "faltan: 7991 imagenes.\n",
      "faltan: 7941 imagenes.\n",
      "faltan: 7891 imagenes.\n",
      "faltan: 7841 imagenes.\n",
      "faltan: 7791 imagenes.\n",
      "faltan: 7741 imagenes.\n",
      "faltan: 7691 imagenes.\n",
      "faltan: 7641 imagenes.\n",
      "faltan: 7591 imagenes.\n",
      "faltan: 7541 imagenes.\n",
      "faltan: 7491 imagenes.\n",
      "faltan: 7441 imagenes.\n",
      "faltan: 7391 imagenes.\n",
      "faltan: 7341 imagenes.\n",
      "faltan: 7291 imagenes.\n",
      "faltan: 7241 imagenes.\n"
     ]
    }
   ],
   "source": [
    "named = 'hombres'\n",
    "img_sam = 12090\n",
    "Xt, Yt = get_images(named, img_sam, Xt, Yt)"
   ]
  },
  {
   "cell_type": "code",
   "execution_count": null,
   "metadata": {},
   "outputs": [],
   "source": [
    "dat_X = np.array(Xt)\n",
    "dat_Y = np.array(Yt)"
   ]
  },
  {
   "cell_type": "code",
   "execution_count": null,
   "metadata": {},
   "outputs": [],
   "source": [
    "_print_dim(dat_X, dat_Y)"
   ]
  },
  {
   "cell_type": "code",
   "execution_count": null,
   "metadata": {},
   "outputs": [],
   "source": [
    "ruta = 'dataset/data.pckl'\n",
    "File = open(ruta, 'wb')\n",
    "pickle.dump(dat_X,File) \n",
    "pickle.dump(dat_Y,File)\n",
    "File.close()\n",
    "del(File)"
   ]
  },
  {
   "cell_type": "code",
   "execution_count": null,
   "metadata": {},
   "outputs": [],
   "source": []
  }
 ],
 "metadata": {
  "kernelspec": {
   "display_name": "Python 3",
   "language": "python",
   "name": "python3"
  },
  "language_info": {
   "codemirror_mode": {
    "name": "ipython",
    "version": 3
   },
   "file_extension": ".py",
   "mimetype": "text/x-python",
   "name": "python",
   "nbconvert_exporter": "python",
   "pygments_lexer": "ipython3",
   "version": "3.7.4"
  }
 },
 "nbformat": 4,
 "nbformat_minor": 2
}
