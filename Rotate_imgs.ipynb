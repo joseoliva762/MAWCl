{
 "cells": [
  {
   "cell_type": "code",
   "execution_count": 1,
   "metadata": {},
   "outputs": [],
   "source": [
    "from PIL import Image\n",
    "import numpy as np\n",
    "import matplotlib.pyplot as plt\n",
    "import pickle\n",
    "#import pandas as pd\n",
    "#import tensorflow as tf\n",
    "import cv2 as cv\n",
    "import os\n",
    "%matplotlib inline\n",
    "#import glob\n",
    "from skimage import data, io, filters\n",
    "import skimage"
   ]
  },
  {
   "cell_type": "code",
   "execution_count": 4,
   "metadata": {},
   "outputs": [],
   "source": [
    "flip = 270\n",
    "intro_real = 'images/hombres/1 ('\n",
    "ext=').jpg'\n",
    "n_img = 4038\n",
    "for cont_imgs in range(n_img):\n",
    "    name = intro_real + str(cont_imgs+1) + ext\n",
    "    ima = Image.open(name)\n",
    "    rotate = ima.rotate(flip)\n",
    "    new_root = intro_real + str(cont_imgs+(n_img*2)) + ext \n",
    "    rotate.save(new_root)"
   ]
  },
  {
   "cell_type": "code",
   "execution_count": null,
   "metadata": {},
   "outputs": [],
   "source": []
  }
 ],
 "metadata": {
  "kernelspec": {
   "display_name": "Python 3",
   "language": "python",
   "name": "python3"
  },
  "language_info": {
   "codemirror_mode": {
    "name": "ipython",
    "version": 3
   },
   "file_extension": ".py",
   "mimetype": "text/x-python",
   "name": "python",
   "nbconvert_exporter": "python",
   "pygments_lexer": "ipython3",
   "version": "3.7.4"
  }
 },
 "nbformat": 4,
 "nbformat_minor": 2
}
