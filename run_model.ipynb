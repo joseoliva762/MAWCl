{
 "cells": [
  {
   "cell_type": "code",
   "execution_count": 1,
   "metadata": {},
   "outputs": [],
   "source": [
    "import pandas as pd\n",
    "import matplotlib.pyplot as plt\n",
    "import numpy as np\n",
    "import tensorflow as tf\n",
    "import cv2 as cv\n",
    "import os\n",
    "from sklearn.utils import shuffle\n",
    "import pickle\n",
    "from sklearn import metrics\n",
    "import seaborn as sns\n",
    "from sklearn.preprocessing import OneHotEncoder\n",
    "\n",
    "%matplotlib inline"
   ]
  },
  {
   "cell_type": "code",
   "execution_count": 2,
   "metadata": {},
   "outputs": [],
   "source": [
    "def take_img(ruta):\n",
    "    vs =  cv.VideoCapture(0)\n",
    "    key = cv.waitKey(1)\n",
    "    while True:\n",
    "        try:\n",
    "            check, frame = vs.read()\n",
    "            #print(check) #prints true as long as the webcam is running\n",
    "            #print(frame) #prints matrix values of each framecd \n",
    "            cv.imshow(\"Capturano\", frame)\n",
    "            key = cv.waitKey(1)\n",
    "            if key == ord('s'):\n",
    "                print('Capturando imagen...')\n",
    "                cv.imwrite(filename=ruta, img=frame)\n",
    "                vs.release()\n",
    "                img_new = cv.imread(ruta,3)\n",
    "                img_new = cv.imshow(\"imgen tomada\", img_new)\n",
    "                cv.waitKey(1650)\n",
    "                cv.destroyAllWindows()\n",
    "                print(\"Processing image...\")\n",
    "                img_readed = cv.imread(ruta, cv.IMREAD_ANYCOLOR)\n",
    "                im = cv.getRectSubPix(img_readed, (360, 360), (320, 240))\n",
    "                #im = img_readed[400:400, 200:200]\n",
    "                img_resized = cv.resize(im,(64,64))\n",
    "                img_rgb = cv.cvtColor(img_resized, cv.COLOR_BGR2RGB)\n",
    "                img_rgb = img_rgb[...,::-1].copy()\n",
    "                img_final = cv.imwrite(filename=ruta, img=img_rgb)\n",
    "                print(\"Imagen guarda!, esa en la ruta: {}\".format(ruta))\n",
    "                break\n",
    "        except(KeyboardInterrupt):\n",
    "            print(\"apagando camera.\")\n",
    "            vs.release()\n",
    "            print(\"Camera fuera.\")\n",
    "            cv.destroyAllWindows()\n",
    "            break"
   ]
  },
  {
   "cell_type": "code",
   "execution_count": 3,
   "metadata": {},
   "outputs": [],
   "source": [
    "def prediction_model(img, predice):\n",
    "    img_reshape = img.reshape([64,64,3])\n",
    "    #m2 = im2.T;\n",
    "    plt.imshow(img_reshape)\n",
    "    plt.xticks([]), plt.yticks([])  # to hide tick values on X and Y axis\n",
    "    if(predice[0] == 1):\n",
    "        #if(predice[0] == 1):\n",
    "        response = 'Hombre'\n",
    "    elif(predice[0] == 0):\n",
    "        response = 'Mujer'\n",
    "    else:\n",
    "        response = 'Indeterminado'\n",
    "    print('Lo predice como: {}'.format(response))"
   ]
  },
  {
   "cell_type": "code",
   "execution_count": 4,
   "metadata": {},
   "outputs": [],
   "source": [
    "def charge_dataset(ruta):\n",
    "    File = open(ruta, 'rb')\n",
    "    data_x_tmp = pickle.load(File)\n",
    "    data_y = pickle.load(File)\n",
    "    File.close()\n",
    "    del(File)\n",
    "    return data_x_tmp, data_y\n",
    "\n",
    "def convpool(X, W, b):\n",
    "    conv_out = tf.nn.conv2d(X, W, strides=[1, 1, 1, 1], padding='SAME')\n",
    "    conv_out = tf.nn.bias_add(conv_out, b)\n",
    "    pool_out = tf.nn.max_pool(conv_out, ksize=[1, 2, 2, 1], strides=[1, 2, 2, 1], padding='SAME')\n",
    "    return tf.nn.relu(pool_out)\n",
    "\n",
    "def _print_img(dimx):\n",
    "    print(\"Dimensión de la imagen {}\".format(dimx.shape))\n",
    "    \n",
    "def get_images(test_ruta, Xt):\n",
    "    img = cv.imread(test_ruta,3)\n",
    "    img = cv.cvtColor(img, cv.COLOR_BGR2RGB)\n",
    "    ima = cv.resize(img,(64,64))\n",
    "    Xt.append(ima)\n",
    "    return Xt\n",
    "\n",
    "def show_img(img):\n",
    "    img_reshape = img.reshape([64,64,3])\n",
    "    #m2 = im2.T;\n",
    "    plt.imshow(img_reshape)"
   ]
  },
  {
   "cell_type": "code",
   "execution_count": 5,
   "metadata": {},
   "outputs": [
    {
     "name": "stdout",
     "output_type": "stream",
     "text": [
      "Capturando imagen...\n",
      "Processing image...\n",
      "Imagen guarda!, esa en la ruta: images/test/test19.jpg\n"
     ]
    }
   ],
   "source": [
    "ruta = 'images/test/test19.jpg'\n",
    "take_img(ruta)"
   ]
  },
  {
   "cell_type": "code",
   "execution_count": 6,
   "metadata": {},
   "outputs": [],
   "source": [
    "num = 9\n",
    "test_ruta = 'images/test/test ('+str(num)+').jpg'\n",
    "#test_ruta = ruta\n",
    "Xt = get_images(test_ruta, Xt=list())\n",
    "img = np.array(Xt)"
   ]
  },
  {
   "cell_type": "code",
   "execution_count": 7,
   "metadata": {},
   "outputs": [
    {
     "name": "stdout",
     "output_type": "stream",
     "text": [
      "Dimensión de la imagen (1, 64, 64, 3)\n"
     ]
    },
    {
     "data": {
      "image/png": "[encoded data removed]",
      "text/plain": [
       "<Figure size 432x288 with 1 Axes>"
      ]
     },
     "metadata": {
      "needs_background": "light"
     },
     "output_type": "display_data"
    }
   ],
   "source": [
    "_print_img(img)\n",
    "show_img(img)"
   ]
  },
  {
   "cell_type": "code",
   "execution_count": 8,
   "metadata": {},
   "outputs": [
    {
     "name": "stdout",
     "output_type": "stream",
     "text": [
      "(1, 12288)\n"
     ]
    }
   ],
   "source": [
    "img_resh = img.reshape(img.shape[0],(img.shape[1]*img.shape[2]*img.shape[3]))\n",
    "print(img_resh.shape)"
   ]
  },
  {
   "cell_type": "code",
   "execution_count": 9,
   "metadata": {},
   "outputs": [
    {
     "name": "stdout",
     "output_type": "stream",
     "text": [
      "[[0], [1]]\n"
     ]
    }
   ],
   "source": [
    "def cr_res():\n",
    "    res = ([[0], [1]])\n",
    "    print(res)\n",
    "    return res\n",
    "res= cr_res()"
   ]
  },
  {
   "cell_type": "code",
   "execution_count": 10,
   "metadata": {},
   "outputs": [
    {
     "name": "stderr",
     "output_type": "stream",
     "text": [
      "C:\\Users\\joseo\\Anaconda3\\envs\\automatas\\lib\\site-packages\\sklearn\\preprocessing\\_encoders.py:415: FutureWarning: The handling of integer data will change in version 0.22. Currently, the categories are determined based on the range [0, max(values)], while in the future they will be determined based on the unique values.\n",
      "If you want the future behaviour and silence this warning, you can specify \"categories='auto'\".\n",
      "In case you used a LabelEncoder before this OneHotEncoder to convert the categories to integers, then you can now use the OneHotEncoder directly.\n",
      "  warnings.warn(msg, FutureWarning)\n"
     ]
    }
   ],
   "source": [
    "oneHot = OneHotEncoder()\n",
    "oneHot.fit(res)\n",
    "res = oneHot.transform(res).toarray()"
   ]
  },
  {
   "cell_type": "code",
   "execution_count": 11,
   "metadata": {},
   "outputs": [
    {
     "data": {
      "text/plain": [
       "array([[1., 0.],\n",
       "       [0., 1.]])"
      ]
     },
     "execution_count": 11,
     "metadata": {},
     "output_type": "execute_result"
    }
   ],
   "source": [
    "res"
   ]
  },
  {
   "cell_type": "code",
   "execution_count": 12,
   "metadata": {},
   "outputs": [],
   "source": [
    "def create_hip():\n",
    "    n_char = np.shape(img_resh)[1]         # Número de cararcteristicas\n",
    "    n_class = 2\n",
    "    hidden_layer_size = 300\n",
    "    samples = np.shape(img_resh)[0]\n",
    "    colmns = np.shape(img_resh)[1]\n",
    "    #Placeholders\n",
    "    tf.reset_default_graph()\n",
    "    X = tf.placeholder(tf.float32, [samples, 64, 64, 3])\n",
    "    Y = tf.placeholder(tf.float32, [2, n_class])\n",
    "    W1 = tf.get_variable(\"W1\", [8, 8, 3, 32])\n",
    "    b1 = tf.get_variable(\"b1\", 32)\n",
    "    W2 = tf.get_variable(\"W2\",[8, 8, 32, 64])\n",
    "    b2 = tf.get_variable(\"b2\", 64)\n",
    "    W3 = tf.get_variable(\"W3\",[16*16*64, hidden_layer_size])\n",
    "    b3 = tf.get_variable(\"b3\",[hidden_layer_size])\n",
    "    W4 = tf.get_variable(\"W4\",[hidden_layer_size, n_class])\n",
    "    b4 = tf.get_variable(\"b4\",n_class)\n",
    "    Z1 = convpool(X, W1, b1)\n",
    "    Z2 = convpool(Z1, W2, b2)\n",
    "    Z2_shape = Z2.get_shape().as_list()\n",
    "    Z2r = tf.reshape(Z2, [Z2_shape[0], np.prod(Z2_shape[1:])])\n",
    "    Z3 = tf.nn.relu( tf.matmul(Z2r, W3) + b3 )\n",
    "    Z = tf.matmul(Z3, W4) + b4\n",
    "    y_ = tf.nn.tanh(Z)\n",
    "    return X, Y, y_"
   ]
  },
  {
   "cell_type": "code",
   "execution_count": 13,
   "metadata": {},
   "outputs": [
    {
     "name": "stderr",
     "output_type": "stream",
     "text": [
      "WARNING: Logging before flag parsing goes to stderr.\n",
      "W1118 11:01:40.401982  3832 deprecation.py:506] From C:\\Users\\joseo\\Anaconda3\\envs\\automatas\\lib\\site-packages\\tensorflow\\python\\ops\\init_ops.py:1251: calling VarianceScaling.__init__ (from tensorflow.python.ops.init_ops) with dtype is deprecated and will be removed in a future version.\n",
      "Instructions for updating:\n",
      "Call initializer instance with the dtype argument instead of passing it to the constructor\n"
     ]
    }
   ],
   "source": [
    "X, Y, y_ = create_hip()\n",
    "predice = tf.argmax(y_, 1)"
   ]
  },
  {
   "cell_type": "code",
   "execution_count": 14,
   "metadata": {},
   "outputs": [
    {
     "name": "stderr",
     "output_type": "stream",
     "text": [
      "W1118 11:01:41.858387  3832 deprecation.py:323] From C:\\Users\\joseo\\Anaconda3\\envs\\automatas\\lib\\site-packages\\tensorflow\\python\\training\\saver.py:1276: checkpoint_exists (from tensorflow.python.training.checkpoint_management) is deprecated and will be removed in a future version.\n",
      "Instructions for updating:\n",
      "Use standard file APIs to check for files with this prefix.\n"
     ]
    }
   ],
   "source": [
    "saver = tf.train.Saver()\n",
    "with tf.Session() as sess:\n",
    "    saver.restore(sess, os.getcwd()+\"/modeloCNN.ckpt\")\n",
    "    img_resh = img_resh.reshape(img_resh.shape[0], 64, 64, 3)\n",
    "    predice = sess.run([predice], feed_dict={X: img_resh})"
   ]
  },
  {
   "cell_type": "code",
   "execution_count": 15,
   "metadata": {},
   "outputs": [
    {
     "data": {
      "text/plain": [
       "(1, 1)"
      ]
     },
     "execution_count": 15,
     "metadata": {},
     "output_type": "execute_result"
    }
   ],
   "source": [
    "np.array(predice).shape"
   ]
  },
  {
   "cell_type": "code",
   "execution_count": 16,
   "metadata": {},
   "outputs": [
    {
     "name": "stdout",
     "output_type": "stream",
     "text": [
      "Lo predice como: Mujer\n"
     ]
    },
    {
     "data": {
      "image/png": "[encoded data removed]",
      "text/plain": [
       "<Figure size 432x288 with 1 Axes>"
      ]
     },
     "metadata": {},
     "output_type": "display_data"
    }
   ],
   "source": [
    "prediction_model(img, predice)"
   ]
  },
  {
   "cell_type": "code",
   "execution_count": null,
   "metadata": {},
   "outputs": [],
   "source": []
  },
  {
   "cell_type": "code",
   "execution_count": null,
   "metadata": {},
   "outputs": [],
   "source": []
  },
  {
   "cell_type": "code",
   "execution_count": null,
   "metadata": {},
   "outputs": [],
   "source": []
  }
 ],
 "metadata": {
  "kernelspec": {
   "display_name": "Python 3",
   "language": "python",
   "name": "python3"
  },
  "language_info": {
   "codemirror_mode": {
    "name": "ipython",
    "version": 3
   },
   "file_extension": ".py",
   "mimetype": "text/x-python",
   "name": "python",
   "nbconvert_exporter": "python",
   "pygments_lexer": "ipython3",
   "version": "3.7.4"
  }
 },
 "nbformat": 4,
 "nbformat_minor": 2
}
