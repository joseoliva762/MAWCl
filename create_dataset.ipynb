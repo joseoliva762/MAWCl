{
 "cells": [
  {
   "cell_type": "code",
   "execution_count": 17,
   "metadata": {},
   "outputs": [],
   "source": [
    "import pickle\n",
    "import matplotlib.pyplot as plt\n",
    "import numpy as np\n",
    "import tensorflow as tf\n",
    "from PIL import Image\n",
    "\n",
    "import cv2 as cv\n",
    "import os\n",
    "%matplotlib inline"
   ]
  },
  {
   "cell_type": "code",
   "execution_count": 18,
   "metadata": {},
   "outputs": [],
   "source": [
    "def _print_dim(dimx, dimy):\n",
    "    print(\"Dimensión de X {}\".format(dimx.shape))\n",
    "    print(\"Dimensión de Y {}\".format(dimy.shape))"
   ]
  },
  {
   "cell_type": "code",
   "execution_count": 22,
   "metadata": {},
   "outputs": [],
   "source": [
    "def get_images(name, n_img, Xt, Yt, t_res=0):\n",
    "    intro = intro='images/' + str(name) +'/1 ('\n",
    "    ext=').jpg'\n",
    "    #n_img = 11942\n",
    "    for cont_imgs in range(n_img):\n",
    "        nombre = intro + str(cont_imgs+1) + ext\n",
    "        img = cv.imread(nombre,3)\n",
    "        img = cv.cvtColor(img, cv.COLOR_BGR2RGB)\n",
    "        ima = cv.resize(img,(64,64))\n",
    "        if (cont_imgs+1) % 100 == 0:\n",
    "            print('faltan: {} imagenes.'.format(n_img-cont_imgs))\n",
    "        t=[t_res]\n",
    "        Xt.append(ima)\n",
    "        Yt.append(t)\n",
    "    return Xt, Yt"
   ]
  },
  {
   "cell_type": "code",
   "execution_count": 23,
   "metadata": {},
   "outputs": [
    {
     "name": "stdout",
     "output_type": "stream",
     "text": [
      "faltan: 11843 imagenes.\n",
      "faltan: 11743 imagenes.\n",
      "faltan: 11643 imagenes.\n",
      "faltan: 11543 imagenes.\n",
      "faltan: 11443 imagenes.\n",
      "faltan: 11343 imagenes.\n",
      "faltan: 11243 imagenes.\n",
      "faltan: 11143 imagenes.\n",
      "faltan: 11043 imagenes.\n",
      "faltan: 10943 imagenes.\n",
      "faltan: 10843 imagenes.\n",
      "faltan: 10743 imagenes.\n",
      "faltan: 10643 imagenes.\n",
      "faltan: 10543 imagenes.\n",
      "faltan: 10443 imagenes.\n",
      "faltan: 10343 imagenes.\n",
      "faltan: 10243 imagenes.\n",
      "faltan: 10143 imagenes.\n",
      "faltan: 10043 imagenes.\n",
      "faltan: 9943 imagenes.\n",
      "faltan: 9843 imagenes.\n",
      "faltan: 9743 imagenes.\n",
      "faltan: 9643 imagenes.\n",
      "faltan: 9543 imagenes.\n",
      "faltan: 9443 imagenes.\n",
      "faltan: 9343 imagenes.\n",
      "faltan: 9243 imagenes.\n",
      "faltan: 9143 imagenes.\n",
      "faltan: 9043 imagenes.\n",
      "faltan: 8943 imagenes.\n",
      "faltan: 8843 imagenes.\n",
      "faltan: 8743 imagenes.\n",
      "faltan: 8643 imagenes.\n",
      "faltan: 8543 imagenes.\n",
      "faltan: 8443 imagenes.\n",
      "faltan: 8343 imagenes.\n",
      "faltan: 8243 imagenes.\n",
      "faltan: 8143 imagenes.\n",
      "faltan: 8043 imagenes.\n",
      "faltan: 7943 imagenes.\n",
      "faltan: 7843 imagenes.\n",
      "faltan: 7743 imagenes.\n",
      "faltan: 7643 imagenes.\n",
      "faltan: 7543 imagenes.\n",
      "faltan: 7443 imagenes.\n",
      "faltan: 7343 imagenes.\n",
      "faltan: 7243 imagenes.\n",
      "faltan: 7143 imagenes.\n",
      "faltan: 7043 imagenes.\n",
      "faltan: 6943 imagenes.\n",
      "faltan: 6843 imagenes.\n",
      "faltan: 6743 imagenes.\n",
      "faltan: 6643 imagenes.\n",
      "faltan: 6543 imagenes.\n",
      "faltan: 6443 imagenes.\n",
      "faltan: 6343 imagenes.\n",
      "faltan: 6243 imagenes.\n",
      "faltan: 6143 imagenes.\n",
      "faltan: 6043 imagenes.\n",
      "faltan: 5943 imagenes.\n",
      "faltan: 5843 imagenes.\n",
      "faltan: 5743 imagenes.\n",
      "faltan: 5643 imagenes.\n",
      "faltan: 5543 imagenes.\n",
      "faltan: 5443 imagenes.\n",
      "faltan: 5343 imagenes.\n",
      "faltan: 5243 imagenes.\n",
      "faltan: 5143 imagenes.\n",
      "faltan: 5043 imagenes.\n",
      "faltan: 4943 imagenes.\n",
      "faltan: 4843 imagenes.\n",
      "faltan: 4743 imagenes.\n",
      "faltan: 4643 imagenes.\n",
      "faltan: 4543 imagenes.\n",
      "faltan: 4443 imagenes.\n",
      "faltan: 4343 imagenes.\n",
      "faltan: 4243 imagenes.\n",
      "faltan: 4143 imagenes.\n",
      "faltan: 4043 imagenes.\n",
      "faltan: 3943 imagenes.\n",
      "faltan: 3843 imagenes.\n",
      "faltan: 3743 imagenes.\n",
      "faltan: 3643 imagenes.\n",
      "faltan: 3543 imagenes.\n",
      "faltan: 3443 imagenes.\n",
      "faltan: 3343 imagenes.\n",
      "faltan: 3243 imagenes.\n",
      "faltan: 3143 imagenes.\n",
      "faltan: 3043 imagenes.\n",
      "faltan: 2943 imagenes.\n",
      "faltan: 2843 imagenes.\n",
      "faltan: 2743 imagenes.\n",
      "faltan: 2643 imagenes.\n",
      "faltan: 2543 imagenes.\n",
      "faltan: 2443 imagenes.\n",
      "faltan: 2343 imagenes.\n",
      "faltan: 2243 imagenes.\n",
      "faltan: 2143 imagenes.\n",
      "faltan: 2043 imagenes.\n",
      "faltan: 1943 imagenes.\n",
      "faltan: 1843 imagenes.\n",
      "faltan: 1743 imagenes.\n",
      "faltan: 1643 imagenes.\n",
      "faltan: 1543 imagenes.\n",
      "faltan: 1443 imagenes.\n",
      "faltan: 1343 imagenes.\n",
      "faltan: 1243 imagenes.\n",
      "faltan: 1143 imagenes.\n",
      "faltan: 1043 imagenes.\n",
      "faltan: 943 imagenes.\n",
      "faltan: 843 imagenes.\n",
      "faltan: 743 imagenes.\n",
      "faltan: 643 imagenes.\n",
      "faltan: 543 imagenes.\n",
      "faltan: 443 imagenes.\n",
      "faltan: 343 imagenes.\n",
      "faltan: 243 imagenes.\n",
      "faltan: 143 imagenes.\n",
      "faltan: 43 imagenes.\n"
     ]
    }
   ],
   "source": [
    "named = 'mujeres'\n",
    "img_sam = 11942\n",
    "Xt, Yt = get_images(named, img_sam, Xt=list(), Yt=list())"
   ]
  },
  {
   "cell_type": "code",
   "execution_count": 24,
   "metadata": {},
   "outputs": [],
   "source": [
    "dat_X = np.array(Xt)\n",
    "dat_Y = np.array(Yt)"
   ]
  },
  {
   "cell_type": "code",
   "execution_count": 25,
   "metadata": {},
   "outputs": [
    {
     "name": "stdout",
     "output_type": "stream",
     "text": [
      "Dimensión de X (11942, 64, 64, 3)\n",
      "Dimensión de Y (11942, 1)\n"
     ]
    }
   ],
   "source": [
    "_print_dim(dat_X, dat_Y)"
   ]
  },
  {
   "cell_type": "code",
   "execution_count": 26,
   "metadata": {},
   "outputs": [],
   "source": [
    "ruta = 'dataset/data.pckl'\n",
    "File = open(ruta, 'wb')\n",
    "pickle.dump(dat_X,File) \n",
    "pickle.dump(dat_Y,File)\n",
    "File.close()\n",
    "del(File)"
   ]
  },
  {
   "cell_type": "markdown",
   "metadata": {},
   "source": [
    "# para agregar la otra clase"
   ]
  },
  {
   "cell_type": "code",
   "execution_count": 27,
   "metadata": {},
   "outputs": [],
   "source": [
    "ruta = 'dataset/data.pckl'\n",
    "File = open(ruta, 'rb')\n",
    "dat_X = pickle.load(File)\n",
    "dat_Y = pickle.load(File)\n",
    "File.close()\n",
    "del(File)"
   ]
  },
  {
   "cell_type": "code",
   "execution_count": 28,
   "metadata": {},
   "outputs": [],
   "source": [
    "Xt = dat_X.tolist()\n",
    "Yt = dat_Y.tolist()"
   ]
  },
  {
   "cell_type": "code",
   "execution_count": 29,
   "metadata": {},
   "outputs": [
    {
     "name": "stdout",
     "output_type": "stream",
     "text": [
      "Dimensión de X (11942, 64, 64, 3)\n",
      "Dimensión de Y (11942, 1)\n"
     ]
    }
   ],
   "source": [
    "_print_dim(dat_X, dat_Y)"
   ]
  },
  {
   "cell_type": "code",
   "execution_count": 31,
   "metadata": {
    "scrolled": true
   },
   "outputs": [
    {
     "name": "stdout",
     "output_type": "stream",
     "text": [
      "faltan: 11991 imagenes.\n",
      "faltan: 11891 imagenes.\n",
      "faltan: 11791 imagenes.\n",
      "faltan: 11691 imagenes.\n",
      "faltan: 11591 imagenes.\n",
      "faltan: 11491 imagenes.\n",
      "faltan: 11391 imagenes.\n",
      "faltan: 11291 imagenes.\n",
      "faltan: 11191 imagenes.\n",
      "faltan: 11091 imagenes.\n",
      "faltan: 10991 imagenes.\n",
      "faltan: 10891 imagenes.\n",
      "faltan: 10791 imagenes.\n",
      "faltan: 10691 imagenes.\n",
      "faltan: 10591 imagenes.\n",
      "faltan: 10491 imagenes.\n",
      "faltan: 10391 imagenes.\n",
      "faltan: 10291 imagenes.\n",
      "faltan: 10191 imagenes.\n",
      "faltan: 10091 imagenes.\n",
      "faltan: 9991 imagenes.\n",
      "faltan: 9891 imagenes.\n",
      "faltan: 9791 imagenes.\n",
      "faltan: 9691 imagenes.\n",
      "faltan: 9591 imagenes.\n",
      "faltan: 9491 imagenes.\n",
      "faltan: 9391 imagenes.\n",
      "faltan: 9291 imagenes.\n",
      "faltan: 9191 imagenes.\n",
      "faltan: 9091 imagenes.\n",
      "faltan: 8991 imagenes.\n",
      "faltan: 8891 imagenes.\n",
      "faltan: 8791 imagenes.\n",
      "faltan: 8691 imagenes.\n",
      "faltan: 8591 imagenes.\n",
      "faltan: 8491 imagenes.\n",
      "faltan: 8391 imagenes.\n",
      "faltan: 8291 imagenes.\n",
      "faltan: 8191 imagenes.\n",
      "faltan: 8091 imagenes.\n",
      "faltan: 7991 imagenes.\n",
      "faltan: 7891 imagenes.\n",
      "faltan: 7791 imagenes.\n",
      "faltan: 7691 imagenes.\n",
      "faltan: 7591 imagenes.\n",
      "faltan: 7491 imagenes.\n",
      "faltan: 7391 imagenes.\n",
      "faltan: 7291 imagenes.\n",
      "faltan: 7191 imagenes.\n",
      "faltan: 7091 imagenes.\n",
      "faltan: 6991 imagenes.\n",
      "faltan: 6891 imagenes.\n",
      "faltan: 6791 imagenes.\n",
      "faltan: 6691 imagenes.\n",
      "faltan: 6591 imagenes.\n",
      "faltan: 6491 imagenes.\n",
      "faltan: 6391 imagenes.\n",
      "faltan: 6291 imagenes.\n",
      "faltan: 6191 imagenes.\n",
      "faltan: 6091 imagenes.\n",
      "faltan: 5991 imagenes.\n",
      "faltan: 5891 imagenes.\n",
      "faltan: 5791 imagenes.\n",
      "faltan: 5691 imagenes.\n",
      "faltan: 5591 imagenes.\n",
      "faltan: 5491 imagenes.\n",
      "faltan: 5391 imagenes.\n",
      "faltan: 5291 imagenes.\n",
      "faltan: 5191 imagenes.\n",
      "faltan: 5091 imagenes.\n",
      "faltan: 4991 imagenes.\n",
      "faltan: 4891 imagenes.\n",
      "faltan: 4791 imagenes.\n",
      "faltan: 4691 imagenes.\n",
      "faltan: 4591 imagenes.\n",
      "faltan: 4491 imagenes.\n",
      "faltan: 4391 imagenes.\n",
      "faltan: 4291 imagenes.\n",
      "faltan: 4191 imagenes.\n",
      "faltan: 4091 imagenes.\n",
      "faltan: 3991 imagenes.\n",
      "faltan: 3891 imagenes.\n",
      "faltan: 3791 imagenes.\n",
      "faltan: 3691 imagenes.\n",
      "faltan: 3591 imagenes.\n",
      "faltan: 3491 imagenes.\n",
      "faltan: 3391 imagenes.\n",
      "faltan: 3291 imagenes.\n",
      "faltan: 3191 imagenes.\n",
      "faltan: 3091 imagenes.\n",
      "faltan: 2991 imagenes.\n",
      "faltan: 2891 imagenes.\n",
      "faltan: 2791 imagenes.\n",
      "faltan: 2691 imagenes.\n",
      "faltan: 2591 imagenes.\n",
      "faltan: 2491 imagenes.\n",
      "faltan: 2391 imagenes.\n",
      "faltan: 2291 imagenes.\n",
      "faltan: 2191 imagenes.\n",
      "faltan: 2091 imagenes.\n",
      "faltan: 1991 imagenes.\n",
      "faltan: 1891 imagenes.\n",
      "faltan: 1791 imagenes.\n",
      "faltan: 1691 imagenes.\n",
      "faltan: 1591 imagenes.\n",
      "faltan: 1491 imagenes.\n",
      "faltan: 1391 imagenes.\n",
      "faltan: 1291 imagenes.\n",
      "faltan: 1191 imagenes.\n",
      "faltan: 1091 imagenes.\n",
      "faltan: 991 imagenes.\n",
      "faltan: 891 imagenes.\n",
      "faltan: 791 imagenes.\n",
      "faltan: 691 imagenes.\n",
      "faltan: 591 imagenes.\n",
      "faltan: 491 imagenes.\n",
      "faltan: 391 imagenes.\n",
      "faltan: 291 imagenes.\n",
      "faltan: 191 imagenes.\n",
      "faltan: 91 imagenes.\n"
     ]
    }
   ],
   "source": [
    "named = 'hombres'\n",
    "img_sam = 12090\n",
    "Xt, Yt = get_images(named, img_sam, Xt, Yt, t_res=1)"
   ]
  },
  {
   "cell_type": "code",
   "execution_count": 32,
   "metadata": {},
   "outputs": [],
   "source": [
    "dat_X = np.array(Xt)\n",
    "dat_Y = np.array(Yt)"
   ]
  },
  {
   "cell_type": "code",
   "execution_count": 33,
   "metadata": {},
   "outputs": [
    {
     "name": "stdout",
     "output_type": "stream",
     "text": [
      "Dimensión de X (24032, 64, 64, 3)\n",
      "Dimensión de Y (24032, 1)\n"
     ]
    }
   ],
   "source": [
    "_print_dim(dat_X, dat_Y)"
   ]
  },
  {
   "cell_type": "code",
   "execution_count": null,
   "metadata": {},
   "outputs": [],
   "source": [
    "ruta = 'dataset/data.pckl'\n",
    "File = open(ruta, 'wb')\n",
    "pickle.dump(dat_X,File) \n",
    "pickle.dump(dat_Y,File)\n",
    "File.close()\n",
    "del(File)"
   ]
  },
  {
   "cell_type": "code",
   "execution_count": null,
   "metadata": {},
   "outputs": [],
   "source": []
  },
  {
   "cell_type": "code",
   "execution_count": null,
   "metadata": {},
   "outputs": [],
   "source": []
  }
 ],
 "metadata": {
  "kernelspec": {
   "display_name": "Python 3",
   "language": "python",
   "name": "python3"
  },
  "language_info": {
   "codemirror_mode": {
    "name": "ipython",
    "version": 3
   },
   "file_extension": ".py",
   "mimetype": "text/x-python",
   "name": "python",
   "nbconvert_exporter": "python",
   "pygments_lexer": "ipython3",
   "version": "3.7.4"
  }
 },
 "nbformat": 4,
 "nbformat_minor": 2
}
