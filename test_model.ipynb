{
 "cells": [
  {
   "cell_type": "code",
   "execution_count": 1,
   "metadata": {},
   "outputs": [],
   "source": [
    "import pandas as pd\n",
    "import matplotlib.pyplot as plt\n",
    "import numpy as np\n",
    "import tensorflow as tf\n",
    "import cv2 as cv\n",
    "import os\n",
    "from sklearn.preprocessing import OneHotEncoder\n",
    "\n",
    "from sklearn.utils import shuffle\n",
    "import pickle\n",
    "from sklearn import metrics\n",
    "import seaborn as sns\n",
    "%matplotlib inline"
   ]
  },
  {
   "cell_type": "code",
   "execution_count": 2,
   "metadata": {},
   "outputs": [],
   "source": [
    "def charge_dataset(ruta):\n",
    "    File = open(ruta, 'rb')\n",
    "    data_x_tmp = pickle.load(File)\n",
    "    data_y = pickle.load(File)\n",
    "    File.close()\n",
    "    del(File)\n",
    "    return data_x_tmp, data_y\n",
    "\n",
    "def convpool(X, W, b):\n",
    "    conv_out = tf.nn.conv2d(X, W, strides=[1, 1, 1, 1], padding='SAME')\n",
    "    conv_out = tf.nn.bias_add(conv_out, b)\n",
    "    pool_out = tf.nn.max_pool(conv_out, ksize=[1, 2, 2, 1], strides=[1, 2, 2, 1], padding='SAME')\n",
    "    return tf.nn.relu(pool_out)"
   ]
  },
  {
   "cell_type": "code",
   "execution_count": 3,
   "metadata": {},
   "outputs": [],
   "source": [
    "ruta = 'dataset/test_data.pckl'\n",
    "X_test, Y_test = charge_dataset(ruta)"
   ]
  },
  {
   "cell_type": "code",
   "execution_count": 4,
   "metadata": {},
   "outputs": [
    {
     "name": "stdout",
     "output_type": "stream",
     "text": [
      "formato para X_test: (2403, 12288), formato para Y_test: (2403, 2)\n"
     ]
    }
   ],
   "source": [
    "print('formato para X_test: {}, formato para Y_test: {}'.format(X_test.shape, Y_test.shape))"
   ]
  },
  {
   "cell_type": "code",
   "execution_count": 5,
   "metadata": {},
   "outputs": [
    {
     "name": "stdout",
     "output_type": "stream",
     "text": [
      "12288\n"
     ]
    }
   ],
   "source": [
    "n_char = np.shape(X_test)[1]         # Número de cararcteristicas\n",
    "n_class = np.shape(Y_test)[1]\n",
    "hidden_layer_size = 300\n",
    "samples = np.shape(X_test)[0]\n",
    "colmns = np.shape(X_test)[1]\n",
    "print(colmns)"
   ]
  },
  {
   "cell_type": "code",
   "execution_count": 6,
   "metadata": {},
   "outputs": [],
   "source": [
    "tf.reset_default_graph()\n",
    "X = tf.placeholder(tf.float32, [samples, 64, 64, 3])\n",
    "Y = tf.placeholder(tf.float32, [samples, n_class])"
   ]
  },
  {
   "cell_type": "code",
   "execution_count": 7,
   "metadata": {},
   "outputs": [
    {
     "name": "stderr",
     "output_type": "stream",
     "text": [
      "WARNING: Logging before flag parsing goes to stderr.\n",
      "W1119 19:00:09.634253 14772 deprecation.py:506] From C:\\Users\\joseo\\Anaconda3\\envs\\automatas\\lib\\site-packages\\tensorflow\\python\\ops\\init_ops.py:1251: calling VarianceScaling.__init__ (from tensorflow.python.ops.init_ops) with dtype is deprecated and will be removed in a future version.\n",
      "Instructions for updating:\n",
      "Call initializer instance with the dtype argument instead of passing it to the constructor\n"
     ]
    }
   ],
   "source": [
    "W1 = tf.get_variable(\"W1\", [8, 8, 3, 32])\n",
    "b1 = tf.get_variable(\"b1\", 32)\n",
    "W2 = tf.get_variable(\"W2\",[8, 8, 32, 64])\n",
    "b2 = tf.get_variable(\"b2\", 64)\n",
    "W3 = tf.get_variable(\"W3\",[16*16*64, hidden_layer_size])\n",
    "b3 = tf.get_variable(\"b3\",[hidden_layer_size])\n",
    "W4 = tf.get_variable(\"W4\",[hidden_layer_size, n_class])\n",
    "b4 = tf.get_variable(\"b4\",n_class)"
   ]
  },
  {
   "cell_type": "code",
   "execution_count": 8,
   "metadata": {},
   "outputs": [],
   "source": [
    "Z1 = convpool(X, W1, b1)\n",
    "Z2 = convpool(Z1, W2, b2)\n",
    "Z2_shape = Z2.get_shape().as_list()\n",
    "Z2r = tf.reshape(Z2, [Z2_shape[0], np.prod(Z2_shape[1:])])\n",
    "Z3 = tf.nn.relu( tf.matmul(Z2r, W3) + b3 )\n",
    "Z = tf.matmul(Z3, W4) + b4\n",
    "y_ = tf.nn.tanh(Z)"
   ]
  },
  {
   "cell_type": "code",
   "execution_count": 9,
   "metadata": {},
   "outputs": [],
   "source": [
    "predice = tf.argmax(y_, 1)\n",
    "prediccion = tf.equal(tf.argmax(y_, 1), tf.argmax(Y, 1))\n",
    "accuracy = tf.reduce_mean(tf.cast(prediccion, tf.float32))"
   ]
  },
  {
   "cell_type": "code",
   "execution_count": 10,
   "metadata": {},
   "outputs": [
    {
     "name": "stdout",
     "output_type": "stream",
     "text": [
      "(?, ?)\n"
     ]
    }
   ],
   "source": [
    "conf_matrix = tf.confusion_matrix(tf.argmax(y_, 1), tf.argmax(Y, 1))\n",
    "print(conf_matrix.shape)"
   ]
  },
  {
   "cell_type": "code",
   "execution_count": 11,
   "metadata": {},
   "outputs": [
    {
     "name": "stderr",
     "output_type": "stream",
     "text": [
      "W1119 19:00:11.477184 14772 deprecation.py:323] From C:\\Users\\joseo\\Anaconda3\\envs\\automatas\\lib\\site-packages\\tensorflow\\python\\training\\saver.py:1276: checkpoint_exists (from tensorflow.python.training.checkpoint_management) is deprecated and will be removed in a future version.\n",
      "Instructions for updating:\n",
      "Use standard file APIs to check for files with this prefix.\n"
     ]
    },
    {
     "name": "stdout",
     "output_type": "stream",
     "text": [
      "Test accuracy: 89.51%\n",
      "[[1079  138]\n",
      " [ 114 1072]]\n"
     ]
    }
   ],
   "source": [
    "saver = tf.train.Saver()\n",
    "with tf.Session() as sess:\n",
    "    saver.restore(sess, os.getcwd()+\"/modeloCNN.ckpt\")\n",
    "    X_test = X_test.reshape(X_test.shape[0], 64, 64, 3)\n",
    "    test_accuracy = sess.run([accuracy], feed_dict={X: X_test, Y: Y_test})\n",
    "    test_accuracy_percent = test_accuracy[0] * 100.\n",
    "    print('Test accuracy: '+'{0:.2f}'.format(test_accuracy_percent)+'%')\n",
    "    predice = sess.run([predice], feed_dict={X: X_test, Y: Y_test}) \n",
    "    conf_mat = sess.run([conf_matrix], feed_dict={X: X_test, Y: Y_test})\n",
    "    print(conf_mat[0])"
   ]
  },
  {
   "cell_type": "code",
   "execution_count": null,
   "metadata": {},
   "outputs": [],
   "source": []
  },
  {
   "cell_type": "code",
   "execution_count": 12,
   "metadata": {},
   "outputs": [
    {
     "data": {
      "text/plain": [
       "Text(0.5, 257.44, 'Mujeres - Hombres')"
      ]
     },
     "execution_count": 12,
     "metadata": {},
     "output_type": "execute_result"
    },
    {
     "data": {
      "image/png": "[encoded data removed]",
      "text/plain": [
       "<Figure size 432x288 with 2 Axes>"
      ]
     },
     "metadata": {
      "needs_background": "light"
     },
     "output_type": "display_data"
    }
   ],
   "source": [
    "class_labels = ['Mujeres','Hombres']\n",
    "fig, ax = plt.subplots()\n",
    "tick_marks = np.arange(len(class_labels))\n",
    "plt.xticks(tick_marks, class_labels)\n",
    "plt.yticks(tick_marks, class_labels)\n",
    "\n",
    "sns.heatmap(pd.DataFrame(conf_mat[0]), cmap=\"BuPu\", annot=False,\n",
    "            fmt='d', linewidths=1 ,annot_kws={\"size\": 20})\n",
    "ax.xaxis.set_label_position('top')\n",
    "plt.tight_layout()\n",
    "plt.title('Matriz de confusion')\n",
    "plt.ylabel('Hombres - Mujeres')\n",
    "plt.xlabel('Mujeres - Hombres')"
   ]
  },
  {
   "cell_type": "code",
   "execution_count": 13,
   "metadata": {},
   "outputs": [],
   "source": [
    "Vp = conf_mat[0][0][0] \n",
    "Fn = conf_mat[0][0][1]\n",
    "Fp = conf_mat[0][1][0]\n",
    "Vn = conf_mat[0][1][1]"
   ]
  },
  {
   "cell_type": "code",
   "execution_count": 14,
   "metadata": {},
   "outputs": [
    {
     "name": "stdout",
     "output_type": "stream",
     "text": [
      "Positivos: 1217, Negativos: 1186.\n"
     ]
    }
   ],
   "source": [
    "positive = Vp + Fn\n",
    "negative = Fp + Vn\n",
    "print(\"Positivos: {}, Negativos: {}.\".format(positive, negative))"
   ]
  },
  {
   "cell_type": "code",
   "execution_count": 15,
   "metadata": {},
   "outputs": [
    {
     "name": "stdout",
     "output_type": "stream",
     "text": [
      "Predichos Positivos: 1193, Predichos Negativos: 1210.\n"
     ]
    }
   ],
   "source": [
    "pred_positive = Vp + Fp\n",
    "pred_negative = Vn + Fn\n",
    "print(\"Predichos Positivos: {}, Predichos Negativos: {}.\".format(pred_positive, pred_negative))"
   ]
  },
  {
   "cell_type": "code",
   "execution_count": 16,
   "metadata": {},
   "outputs": [
    {
     "name": "stdout",
     "output_type": "stream",
     "text": [
      "Accuracy: 89.5131%, Error Rate: 10.4869%, Sensibility: 90.4443%, Specificity: 88.5950%.\n"
     ]
    }
   ],
   "source": [
    "mtx_total = positive + negative\n",
    "mtx_accuracy = ((Vp + Vn)/mtx_total) * 100\n",
    "mtx_error_rate = ((Fp + Fn)/mtx_total) * 100\n",
    "mtx_sensibility = (Vp/pred_positive) * 100\n",
    "mtx_specificity = (Vn/pred_negative) * 100\n",
    "print(\"Accuracy: {:.4f}%, Error Rate: {:.4f}%, Sensibility: {:.4f}%, Specificity: {:.4f}%.\"\n",
    "      .format(mtx_accuracy, mtx_error_rate, mtx_sensibility, mtx_specificity))"
   ]
  },
  {
   "cell_type": "code",
   "execution_count": 17,
   "metadata": {},
   "outputs": [
    {
     "name": "stdout",
     "output_type": "stream",
     "text": [
      "Precision: 88.66%, Prediction: 90.39%\n"
     ]
    }
   ],
   "source": [
    "mtx_precision = (Vp/positive) * 100 \n",
    "mtx_vpn = (Vn/negative) * 100\n",
    "print(\"Precision: {:.2f}%, Prediction: {:.2f}%\".format(mtx_precision, mtx_vpn))"
   ]
  },
  {
   "cell_type": "code",
   "execution_count": 18,
   "metadata": {},
   "outputs": [
    {
     "name": "stdout",
     "output_type": "stream",
     "text": [
      "Esta etiquetado como un: Mujer\n",
      "Lo predice como un como un: Mujer\n"
     ]
    },
    {
     "data": {
      "image/png": "[encoded data removed]",
      "text/plain": [
       "<Figure size 432x288 with 1 Axes>"
      ]
     },
     "metadata": {},
     "output_type": "display_data"
    }
   ],
   "source": [
    "index = 333\n",
    "img = X_test[index][0:samples];\n",
    "img_reshape = img.reshape([64,64,3])\n",
    "#m2 = im2.T;\n",
    "plt.imshow(img_reshape)\n",
    "plt.xticks([]), plt.yticks([])  # to hide tick values on X and Y axis\n",
    "if(np.argmax(Y_test[index]) == 1):\n",
    "    etiqueta = 'Hombre'\n",
    "else: \n",
    "    etiqueta = 'Mujer'\n",
    "\n",
    "if(predice[0][index] == 1):\n",
    "    res = 'Hombre'\n",
    "else: \n",
    "    res = 'Mujer'\n",
    "    \n",
    "print('Esta etiquetado como un: {}'.format(etiqueta))\n",
    "print('Lo predice como un como un: {}'.format(res))"
   ]
  },
  {
   "cell_type": "markdown",
   "metadata": {},
   "source": [
    "# cargo una imagen"
   ]
  },
  {
   "cell_type": "code",
   "execution_count": null,
   "metadata": {},
   "outputs": [],
   "source": [
    "def _print_dim(dimx):\n",
    "    print(\"Dimensión de X {}\".format(dimx.shape))\n",
    "    \n",
    "    \n",
    "def get_images(test_ruta, Xt):\n",
    "    img = cv.imread(test_ruta,3)\n",
    "    img = cv.cvtColor(img, cv.COLOR_BGR2RGB)\n",
    "    ima = cv.resize(img,(64,64))\n",
    "    Xt.append(ima)\n",
    "    return Xt"
   ]
  },
  {
   "cell_type": "code",
   "execution_count": null,
   "metadata": {},
   "outputs": [],
   "source": [
    "test_ruta = 'images/test/test1.jpg'\n",
    "Xt = get_images(test_ruta, Xt=list())\n",
    "img = np.array(Xt)"
   ]
  },
  {
   "cell_type": "code",
   "execution_count": null,
   "metadata": {},
   "outputs": [],
   "source": [
    "_print_dim(img)"
   ]
  },
  {
   "cell_type": "code",
   "execution_count": null,
   "metadata": {},
   "outputs": [],
   "source": [
    "img_reshape = img.reshape([64,64,3])\n",
    "#m2 = im2.T;\n",
    "plt.imshow(img_reshape)"
   ]
  },
  {
   "cell_type": "code",
   "execution_count": null,
   "metadata": {},
   "outputs": [],
   "source": [
    "tf.reset_default_graph()\n",
    "X_ph = tf.placeholder(tf.float32, [1, 64, 64, 3])\n",
    "Y_ph = tf.placeholder(tf.float32, [1, n_class])\n",
    "\n",
    "ss = tf.train.Saver()\n",
    "with tf.Session() as sess:\n",
    "    ss.restore(sess, os.getcwd()+\"/modeloCNN.ckpt\")\n",
    "    img = img.reshape(img.shape[0], 64, 64, 3)\n",
    "    predice = sess.run([predice], feed_dict={X_ph: img}) "
   ]
  },
  {
   "cell_type": "code",
   "execution_count": null,
   "metadata": {},
   "outputs": [],
   "source": []
  },
  {
   "cell_type": "code",
   "execution_count": null,
   "metadata": {},
   "outputs": [],
   "source": []
  }
 ],
 "metadata": {
  "kernelspec": {
   "display_name": "Python 3",
   "language": "python",
   "name": "python3"
  },
  "language_info": {
   "codemirror_mode": {
    "name": "ipython",
    "version": 3
   },
   "file_extension": ".py",
   "mimetype": "text/x-python",
   "name": "python",
   "nbconvert_exporter": "python",
   "pygments_lexer": "ipython3",
   "version": "3.7.4"
  }
 },
 "nbformat": 4,
 "nbformat_minor": 2
}
